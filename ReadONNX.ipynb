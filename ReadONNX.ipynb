{
 "cells": [
  {
   "cell_type": "code",
   "execution_count": 1,
   "metadata": {},
   "outputs": [],
   "source": [
    "import os\n",
    "os.environ[\"OPENCV_IO_MAX_IMAGE_PIXELS\"] = str(pow(2,40))\n",
    "import cv2 as cv\n",
    "from matplotlib import pyplot as plt\n",
    "\n",
    "import onnxruntime as ort\n",
    "import onnx\n",
    "import numpy as np\n",
    "model_path = \"models/road_segmentation_model_with_metadata_26_10_22.onnx\"\n",
    "onnx_model = onnx.load(model_path)\n",
    "onnx.checker.check_model(onnx_model)\n",
    "\n"
   ]
  },
  {
   "cell_type": "code",
   "execution_count": 2,
   "metadata": {},
   "outputs": [
    {
     "name": "stdout",
     "output_type": "stream",
     "text": [
      "Input Shape: [[1, 3, 512, 512]]\n"
     ]
    }
   ],
   "source": [
    "input_shapes = [[d.dim_value for d in _input.type.tensor_type.shape.dim] for _input in onnx_model.graph.input]\n",
    "print(\"Input Shape:\",input_shapes)\n",
    "\n",
    "arguments = dir(onnx_model)\n",
    "file = open('arguments.txt','w')\n",
    "for item in arguments:\n",
    "    file.write(item)\n",
    "    file.write('\\n')\n",
    "file.close()"
   ]
  },
  {
   "cell_type": "code",
   "execution_count": 3,
   "metadata": {},
   "outputs": [
    {
     "name": "stdout",
     "output_type": "stream",
     "text": [
      "(4000, 4000, 3)\n"
     ]
    }
   ],
   "source": [
    "PATH = \"Images/581304/07-06.tif\"\n",
    "img = cv.imread(PATH, cv.IMREAD_LOAD_GDAL)\n",
    "print(img.shape)\n"
   ]
  },
  {
   "cell_type": "code",
   "execution_count": 4,
   "metadata": {},
   "outputs": [],
   "source": [
    "#define the priority order for the execution providers\n",
    "# prefer CUDA Execution Provider over CPU Execution Provider\n",
    "EP_list = ['CPUExecutionProvider']\n",
    "\n",
    "# initialize the model.onnx\n",
    "sess = ort.InferenceSession(model_path, providers = EP_list)\n",
    "\n",
    "\n",
    "\n"
   ]
  },
  {
   "cell_type": "code",
   "execution_count": 7,
   "metadata": {},
   "outputs": [
    {
     "name": "stdout",
     "output_type": "stream",
     "text": [
      "(512, 512, 3)\n",
      "uint8\n",
      "(1, 3, 512, 512) float32\n",
      "Output shape: output\n",
      "Input Name: input\n",
      "Output shape: (1, 2, 512, 512)\n"
     ]
    }
   ],
   "source": [
    "# required_input = [1,3,512,512]\n",
    "\n",
    "resize_img = cv.resize(img, (512, 512), \n",
    "               interpolation = cv.INTER_LINEAR)\n",
    "print(resize_img.shape)\n",
    "resize_img =resize_img.reshape([1,3,512,512])\n",
    "print(resize_img.dtype)\n",
    "x = resize_img /255.0\n",
    "x = x.astype(np.float32)\n",
    "print(x.shape, x.dtype)\n",
    "\n",
    "\n",
    "\n",
    "# get the outputs metadata as a list of :class:`onnxruntime.NodeArg`\n",
    "output_name = sess.get_outputs()[0].name\n",
    "print(\"Output shape:\", output_name)\n",
    "\n",
    "# get the inputs metadata as a list of :class:`onnxruntime.NodeArg`\n",
    "input_name = sess.get_inputs()[0].name\n",
    "print(\"Input Name:\", input_name)\n",
    "\n",
    "# inference run using image_data as the input to the model \n",
    "detections = sess.run([output_name], {input_name: x})[0]\n",
    "\n",
    "print(\"Output shape:\", detections.shape)"
   ]
  }
 ],
 "metadata": {
  "kernelspec": {
   "display_name": "tf_2.2",
   "language": "python",
   "name": "python3"
  },
  "language_info": {
   "codemirror_mode": {
    "name": "ipython",
    "version": 3
   },
   "file_extension": ".py",
   "mimetype": "text/x-python",
   "name": "python",
   "nbconvert_exporter": "python",
   "pygments_lexer": "ipython3",
   "version": "3.7.9"
  }
 },
 "nbformat": 4,
 "nbformat_minor": 2
}
